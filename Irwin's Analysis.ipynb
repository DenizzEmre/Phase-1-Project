{
 "cells": [
  {
   "cell_type": "code",
   "execution_count": 149,
   "metadata": {},
   "outputs": [],
   "source": [
    "#importing important libraries\n",
    "import pandas as pd\n",
    "import matplotlib.pyplot as plt\n",
    "import seaborn as sns\n",
    "import numpy as np\n",
    "%matplotlib inline"
   ]
  },
  {
   "cell_type": "code",
   "execution_count": 2,
   "metadata": {},
   "outputs": [],
   "source": [
    "#opening the new csv file for our data\n",
    "df = pd.read_csv('./data/Clean_Aviation.csv')"
   ]
  },
  {
   "cell_type": "markdown",
   "metadata": {},
   "source": [
    "**Is there any correlation between weather and accidents?\n",
    "Weather that produces most accidents**\n",
    "\n",
    "  Compare with damage\n",
    "    \n",
    "    #Aircraft_damage\n",
    "\n",
    "    \n",
    "  Compare with injuries\n",
    "    \n",
    "\t#Total_Fatal_Injuries\n",
    "\t#Total_Serious_Injuries\n",
    "\t#Total_Minor_Injuries\n",
    "\t#Total_Uninjured\n",
    "    \n",
    "    #Injury_severity"
   ]
  },
  {
   "cell_type": "code",
   "execution_count": 3,
   "metadata": {
    "scrolled": true
   },
   "outputs": [
    {
     "data": {
      "text/plain": [
       "Index(['Event_Id', 'Accident_Number', 'Event_Date', 'Location', 'Country',\n",
       "       'Injury_Severity', 'Aircraft_Damage', 'Make', 'Model',\n",
       "       'Number_of_Engines', 'Engine_Type', 'Purpose_of_flight',\n",
       "       'Total_Fatal_Injuries', 'Total_Serious_Injuries',\n",
       "       'Total_Minor_Injuries', 'Total_Uninjured', 'Weather_Condition',\n",
       "       'Phase_of_Flight', 'Report_Status', 'Make_Model'],\n",
       "      dtype='object')"
      ]
     },
     "execution_count": 3,
     "metadata": {},
     "output_type": "execute_result"
    }
   ],
   "source": [
    "df.columns"
   ]
  },
  {
   "cell_type": "code",
   "execution_count": 4,
   "metadata": {},
   "outputs": [],
   "source": [
    "Weather_v_Damage = df[['Weather_Condition', 'Aircraft_Damage']]\n",
    "\n",
    "Weather_v_Damage_count = Weather_v_Damage.value_counts()\n",
    "Weather_v_Damage_count = Weather_v_Damage_count.unstack(level = 1)\n",
    "\n",
    "Weather_v_Damage_count.drop(columns=['Unknown']).plot(kind='bar', figsize=(6,8),use_index = True)\n",
    "\n",
    "df['Total_Injuries'] = df['Total_Fatal_Injuries'] + df['Total_Minor_Injuries'] + df['Total_Serious_Injuries'] \n",
    "df['Total_Passengers'] = df['Total_Injuries'] + df['Total_Uninjured']\n",
    "\n",
    "new_col = df['Weather_Condition'].value_counts().values\n",
    "Weather_v_Injuries = df.groupby('Weather_Condition')[['Total_Injuries', 'Total_Uninjured']].sum()\n",
    "Weather_v_Injuries['Number_of_Accidents'] = new_col\n",
    "Weather_v_Injuries['Injuries_per_Accident'] = Weather_v_Injuries['Total_Injuries'] / Weather_v_Injuries['Number_of_Accidents']\n",
    "Weather_v_Injuries['Uninjuried_per_Accident'] = Weather_v_Injuries['Total_Uninjured'] / Weather_v_Injuries['Number_of_Accidents']\n",
    "\n",
    "Weather_Injuries = Weather_v_Injuries[['Total_Injuries', 'Total_Uninjured']]\n",
    "Weather_rate = Weather_v_Injuries[['Injuries_per_Accident','Uninjuried_per_Accident']].reset_index()"
   ]
  },
  {
   "cell_type": "code",
   "execution_count": 10,
   "metadata": {},
   "outputs": [
    {
     "data": {
      "text/plain": [
       "<AxesSubplot:xlabel='Weather_Condition'>"
      ]
     },
     "execution_count": 10,
     "metadata": {},
     "output_type": "execute_result"
    },
    {
     "data": {
      "image/png": "[encoded data removed]",
      "text/plain": [
       "<Figure size 432x576 with 1 Axes>"
      ]
     },
     "metadata": {
      "needs_background": "light"
     },
     "output_type": "display_data"
    }
   ],
   "source": [
    "Weather_Injuries.plot(kind='bar', figsize=(6,8),use_index = True)"
   ]
  },
  {
   "cell_type": "markdown",
   "metadata": {},
   "source": [
    "**Is there a correlation between engine type and accidents? Do accidents decrease with a certain engine type?**\n",
    "\t\n",
    "    -Engine Type\n",
    "\n",
    "\t#Amateur_Built     - maybe drop ? filtering commercial, private,          \n",
    "\t#Number_of_Engines          \n",
    "\t#Engine_Type  \n"
   ]
  },
  {
   "cell_type": "code",
   "execution_count": 11,
   "metadata": {
    "scrolled": true
   },
   "outputs": [
    {
     "data": {
      "text/html": [
       "<div>\n",
       "<style scoped>\n",
       "    .dataframe tbody tr th:only-of-type {\n",
       "        vertical-align: middle;\n",
       "    }\n",
       "\n",
       "    .dataframe tbody tr th {\n",
       "        vertical-align: top;\n",
       "    }\n",
       "\n",
       "    .dataframe thead th {\n",
       "        text-align: right;\n",
       "    }\n",
       "</style>\n",
       "<table border=\"1\" class=\"dataframe\">\n",
       "  <thead>\n",
       "    <tr style=\"text-align: right;\">\n",
       "      <th>Number_of_Engines</th>\n",
       "      <th>0.0</th>\n",
       "      <th>1.0</th>\n",
       "      <th>2.0</th>\n",
       "      <th>3.0</th>\n",
       "      <th>4.0</th>\n",
       "      <th>Unknown</th>\n",
       "    </tr>\n",
       "    <tr>\n",
       "      <th>Engine_Type</th>\n",
       "      <th></th>\n",
       "      <th></th>\n",
       "      <th></th>\n",
       "      <th></th>\n",
       "      <th></th>\n",
       "      <th></th>\n",
       "    </tr>\n",
       "  </thead>\n",
       "  <tbody>\n",
       "    <tr>\n",
       "      <th>Reciprocating</th>\n",
       "      <td>1</td>\n",
       "      <td>51105</td>\n",
       "      <td>5618</td>\n",
       "      <td>1</td>\n",
       "      <td>52</td>\n",
       "      <td>298</td>\n",
       "    </tr>\n",
       "    <tr>\n",
       "      <th>Turbo Fan</th>\n",
       "      <td>0</td>\n",
       "      <td>4</td>\n",
       "      <td>1356</td>\n",
       "      <td>337</td>\n",
       "      <td>220</td>\n",
       "      <td>86</td>\n",
       "    </tr>\n",
       "    <tr>\n",
       "      <th>Turbo Jet</th>\n",
       "      <td>0</td>\n",
       "      <td>27</td>\n",
       "      <td>308</td>\n",
       "      <td>99</td>\n",
       "      <td>46</td>\n",
       "      <td>7</td>\n",
       "    </tr>\n",
       "    <tr>\n",
       "      <th>Turbo Prop</th>\n",
       "      <td>0</td>\n",
       "      <td>1165</td>\n",
       "      <td>1430</td>\n",
       "      <td>0</td>\n",
       "      <td>34</td>\n",
       "      <td>48</td>\n",
       "    </tr>\n",
       "    <tr>\n",
       "      <th>Turbo Shaft</th>\n",
       "      <td>0</td>\n",
       "      <td>2626</td>\n",
       "      <td>313</td>\n",
       "      <td>1</td>\n",
       "      <td>0</td>\n",
       "      <td>62</td>\n",
       "    </tr>\n",
       "    <tr>\n",
       "      <th>Unknown</th>\n",
       "      <td>417</td>\n",
       "      <td>26</td>\n",
       "      <td>14</td>\n",
       "      <td>1</td>\n",
       "      <td>5</td>\n",
       "      <td>897</td>\n",
       "    </tr>\n",
       "  </tbody>\n",
       "</table>\n",
       "</div>"
      ],
      "text/plain": [
       "Number_of_Engines  0.0    1.0   2.0  3.0  4.0  Unknown\n",
       "Engine_Type                                           \n",
       "Reciprocating        1  51105  5618    1   52      298\n",
       "Turbo Fan            0      4  1356  337  220       86\n",
       "Turbo Jet            0     27   308   99   46        7\n",
       "Turbo Prop           0   1165  1430    0   34       48\n",
       "Turbo Shaft          0   2626   313    1    0       62\n",
       "Unknown            417     26    14    1    5      897"
      ]
     },
     "execution_count": 11,
     "metadata": {},
     "output_type": "execute_result"
    }
   ],
   "source": [
    "Engines = df.groupby(['Number_of_Engines', 'Engine_Type']).size().unstack(level = 0, fill_value = 0)\n",
    "Engines.plot(kind='bar', stacked=True, figsize=(6,8), use_index = True)"
   ]
  },
  {
   "cell_type": "code",
   "execution_count": 172,
   "metadata": {
    "scrolled": true
   },
   "outputs": [
    {
     "name": "stderr",
     "output_type": "stream",
     "text": [
      "<ipython-input-172-18013742c316>:5: FutureWarning: Indexing with multiple keys (implicitly converted to a tuple of keys) will be deprecated, use a list instead.\n",
      "  make_df = df.groupby(['Make','Engine_Type'])[ 'Total_Injuries', 'Total_Passengers'].sum().nlargest(20, columns=['Total_Injuries', 'Total_Passengers'])\n"
     ]
    },
    {
     "data": {
      "text/html": [
       "<div>\n",
       "<style scoped>\n",
       "    .dataframe tbody tr th:only-of-type {\n",
       "        vertical-align: middle;\n",
       "    }\n",
       "\n",
       "    .dataframe tbody tr th {\n",
       "        vertical-align: top;\n",
       "    }\n",
       "\n",
       "    .dataframe thead tr th {\n",
       "        text-align: left;\n",
       "    }\n",
       "\n",
       "    .dataframe thead tr:last-of-type th {\n",
       "        text-align: right;\n",
       "    }\n",
       "</style>\n",
       "<table border=\"1\" class=\"dataframe\">\n",
       "  <thead>\n",
       "    <tr>\n",
       "      <th></th>\n",
       "      <th colspan=\"6\" halign=\"left\">Survival_Rate</th>\n",
       "    </tr>\n",
       "    <tr>\n",
       "      <th>Engine_Type</th>\n",
       "      <th>Reciprocating</th>\n",
       "      <th>Turbo Fan</th>\n",
       "      <th>Turbo Jet</th>\n",
       "      <th>Turbo Prop</th>\n",
       "      <th>Turbo Shaft</th>\n",
       "      <th>Unknown</th>\n",
       "    </tr>\n",
       "    <tr>\n",
       "      <th>Make</th>\n",
       "      <th></th>\n",
       "      <th></th>\n",
       "      <th></th>\n",
       "      <th></th>\n",
       "      <th></th>\n",
       "      <th></th>\n",
       "    </tr>\n",
       "  </thead>\n",
       "  <tbody>\n",
       "    <tr>\n",
       "      <th>Cessna</th>\n",
       "      <td>0.633670</td>\n",
       "      <td>0.000000</td>\n",
       "      <td>0.000000</td>\n",
       "      <td>0.637959</td>\n",
       "      <td>0.000000</td>\n",
       "      <td>0.350291</td>\n",
       "    </tr>\n",
       "    <tr>\n",
       "      <th>Piper</th>\n",
       "      <td>0.576463</td>\n",
       "      <td>0.000000</td>\n",
       "      <td>0.000000</td>\n",
       "      <td>0.000000</td>\n",
       "      <td>0.000000</td>\n",
       "      <td>0.000000</td>\n",
       "    </tr>\n",
       "    <tr>\n",
       "      <th>Boeing</th>\n",
       "      <td>0.000000</td>\n",
       "      <td>0.962465</td>\n",
       "      <td>0.974429</td>\n",
       "      <td>0.000000</td>\n",
       "      <td>0.000000</td>\n",
       "      <td>0.715648</td>\n",
       "    </tr>\n",
       "    <tr>\n",
       "      <th>Beech</th>\n",
       "      <td>0.518549</td>\n",
       "      <td>0.000000</td>\n",
       "      <td>0.000000</td>\n",
       "      <td>0.763518</td>\n",
       "      <td>0.000000</td>\n",
       "      <td>0.000000</td>\n",
       "    </tr>\n",
       "    <tr>\n",
       "      <th>Bell</th>\n",
       "      <td>0.588181</td>\n",
       "      <td>0.000000</td>\n",
       "      <td>0.000000</td>\n",
       "      <td>0.000000</td>\n",
       "      <td>0.504787</td>\n",
       "      <td>0.000000</td>\n",
       "    </tr>\n",
       "    <tr>\n",
       "      <th>Mcdonnell douglas</th>\n",
       "      <td>0.000000</td>\n",
       "      <td>0.946808</td>\n",
       "      <td>0.000000</td>\n",
       "      <td>0.000000</td>\n",
       "      <td>0.000000</td>\n",
       "      <td>0.779022</td>\n",
       "    </tr>\n",
       "    <tr>\n",
       "      <th>Airbus</th>\n",
       "      <td>0.000000</td>\n",
       "      <td>0.957867</td>\n",
       "      <td>0.000000</td>\n",
       "      <td>0.000000</td>\n",
       "      <td>0.000000</td>\n",
       "      <td>0.000000</td>\n",
       "    </tr>\n",
       "    <tr>\n",
       "      <th>Mooney</th>\n",
       "      <td>0.501393</td>\n",
       "      <td>0.000000</td>\n",
       "      <td>0.000000</td>\n",
       "      <td>0.000000</td>\n",
       "      <td>0.000000</td>\n",
       "      <td>0.000000</td>\n",
       "    </tr>\n",
       "    <tr>\n",
       "      <th>Robinson</th>\n",
       "      <td>0.582520</td>\n",
       "      <td>0.000000</td>\n",
       "      <td>0.000000</td>\n",
       "      <td>0.000000</td>\n",
       "      <td>0.000000</td>\n",
       "      <td>0.000000</td>\n",
       "    </tr>\n",
       "    <tr>\n",
       "      <th>Bellanca</th>\n",
       "      <td>0.544696</td>\n",
       "      <td>0.000000</td>\n",
       "      <td>0.000000</td>\n",
       "      <td>0.000000</td>\n",
       "      <td>0.000000</td>\n",
       "      <td>0.000000</td>\n",
       "    </tr>\n",
       "    <tr>\n",
       "      <th>Grumman</th>\n",
       "      <td>0.631048</td>\n",
       "      <td>0.000000</td>\n",
       "      <td>0.000000</td>\n",
       "      <td>0.000000</td>\n",
       "      <td>0.000000</td>\n",
       "      <td>0.000000</td>\n",
       "    </tr>\n",
       "    <tr>\n",
       "      <th>Aerospatiale</th>\n",
       "      <td>0.000000</td>\n",
       "      <td>0.000000</td>\n",
       "      <td>0.000000</td>\n",
       "      <td>0.000000</td>\n",
       "      <td>0.482234</td>\n",
       "      <td>0.000000</td>\n",
       "    </tr>\n",
       "    <tr>\n",
       "      <th>Hughes</th>\n",
       "      <td>0.000000</td>\n",
       "      <td>0.000000</td>\n",
       "      <td>0.000000</td>\n",
       "      <td>0.000000</td>\n",
       "      <td>0.596491</td>\n",
       "      <td>0.000000</td>\n",
       "    </tr>\n",
       "  </tbody>\n",
       "</table>\n",
       "</div>"
      ],
      "text/plain": [
       "                  Survival_Rate                                             \\\n",
       "Engine_Type       Reciprocating Turbo Fan Turbo Jet Turbo Prop Turbo Shaft   \n",
       "Make                                                                         \n",
       "Cessna                 0.633670  0.000000  0.000000   0.637959    0.000000   \n",
       "Piper                  0.576463  0.000000  0.000000   0.000000    0.000000   \n",
       "Boeing                 0.000000  0.962465  0.974429   0.000000    0.000000   \n",
       "Beech                  0.518549  0.000000  0.000000   0.763518    0.000000   \n",
       "Bell                   0.588181  0.000000  0.000000   0.000000    0.504787   \n",
       "Mcdonnell douglas      0.000000  0.946808  0.000000   0.000000    0.000000   \n",
       "Airbus                 0.000000  0.957867  0.000000   0.000000    0.000000   \n",
       "Mooney                 0.501393  0.000000  0.000000   0.000000    0.000000   \n",
       "Robinson               0.582520  0.000000  0.000000   0.000000    0.000000   \n",
       "Bellanca               0.544696  0.000000  0.000000   0.000000    0.000000   \n",
       "Grumman                0.631048  0.000000  0.000000   0.000000    0.000000   \n",
       "Aerospatiale           0.000000  0.000000  0.000000   0.000000    0.482234   \n",
       "Hughes                 0.000000  0.000000  0.000000   0.000000    0.596491   \n",
       "\n",
       "                             \n",
       "Engine_Type         Unknown  \n",
       "Make                         \n",
       "Cessna             0.350291  \n",
       "Piper              0.000000  \n",
       "Boeing             0.715648  \n",
       "Beech              0.000000  \n",
       "Bell               0.000000  \n",
       "Mcdonnell douglas  0.779022  \n",
       "Airbus             0.000000  \n",
       "Mooney             0.000000  \n",
       "Robinson           0.000000  \n",
       "Bellanca           0.000000  \n",
       "Grumman            0.000000  \n",
       "Aerospatiale       0.000000  \n",
       "Hughes             0.000000  "
      ]
     },
     "execution_count": 172,
     "metadata": {},
     "output_type": "execute_result"
    }
   ],
   "source": [
    "top_makes = df['Make'].value_counts()[:20]\n",
    "\n",
    "make_df = df[df['Make'].isin(top_makes.index)][['Make', 'Total_Injuries', 'Total_Passengers']]\n",
    "\n",
    "make_df = df.groupby(['Make','Engine_Type'])[ 'Total_Injuries', 'Total_Passengers'].sum().nlargest(20, columns=['Total_Injuries', 'Total_Passengers'])\n",
    "\n",
    "make_df['Survival_Rate'] = 1 - (make_df['Total_Injuries']/ make_df['Total_Passengers'])\n",
    "make_df = make_df.drop(columns= ['Total_Injuries', 'Total_Passengers'])\n",
    "make_df = make_df.unstack(fill_value=0)\n",
    "make_df"
   ]
  },
  {
   "cell_type": "code",
   "execution_count": 97,
   "metadata": {},
   "outputs": [
    {
     "data": {
      "image/png": "[encoded data removed]",
      "text/plain": [
       "<Figure size 864x432 with 1 Axes>"
      ]
     },
     "metadata": {
      "needs_background": "light"
     },
     "output_type": "display_data"
    }
   ],
   "source": [
    "fig, ax = plt.subplots()\n",
    "\n",
    "make_df.plot(kind='bar', rot=80, figsize=(12,6), ax =ax)\n",
    "ax.legend(['Reciprocating',\n",
    "'Turbo Fan',\n",
    "'Turbo Prop',\n",
    "'Turbo Shaft',\n",
    "'Unknown'])\n",
    "ax.set_ylabel('Survival Rate');"
   ]
  },
  {
   "cell_type": "code",
   "execution_count": 109,
   "metadata": {
    "scrolled": true
   },
   "outputs": [
    {
     "data": {
      "text/plain": [
       "Make_Model       Engine_Type  \n",
       "Cessna 152       Reciprocating    2322\n",
       "Cessna 172       Reciprocating    1614\n",
       "Cessna 172N      Reciprocating    1136\n",
       "Piper PA-28-140  Reciprocating     893\n",
       "Cessna 150       Reciprocating     787\n",
       "Cessna 172M      Reciprocating     772\n",
       "Cessna 172P      Reciprocating     674\n",
       "Cessna 180       Reciprocating     605\n",
       "Cessna 182       Reciprocating     590\n",
       "Cessna 150M      Reciprocating     580\n",
       "Piper PA-18      Reciprocating     565\n",
       "Piper PA-28-180  Reciprocating     561\n",
       "Piper PA-18-150  Reciprocating     560\n",
       "Piper PA-28-161  Reciprocating     550\n",
       "Piper PA-28-181  Reciprocating     512\n",
       "Bell 206B        Turbo Shaft       473\n",
       "Piper PA-38-112  Reciprocating     459\n",
       "Cessna 150L      Reciprocating     450\n",
       "Cessna 140       Reciprocating     388\n",
       "Cessna 170B      Reciprocating     381\n",
       "dtype: int64"
      ]
     },
     "execution_count": 109,
     "metadata": {},
     "output_type": "execute_result"
    }
   ],
   "source": [
    "df[['Make_Model','Engine_Type']].value_counts()[:20]"
   ]
  },
  {
   "cell_type": "markdown",
   "metadata": {},
   "source": [
    "Most of the top crashes are related with a planes with reciprocating engine. Only the model Bell 206B has a turbo shaft engine"
   ]
  },
  {
   "cell_type": "code",
   "execution_count": 140,
   "metadata": {
    "scrolled": true
   },
   "outputs": [],
   "source": [
    "top_models = df[['Make_Model']].value_counts()[:20]\n",
    "\n",
    "model_df = df[df['Make_Model'].isin(top_models.index)][['Make', 'Total_Injuries', 'Total_Passengers']]\n",
    "model_df\n",
    "\n",
    "model_df = make_df = df.groupby(['Make_Model'])[ 'Total_Injuries', 'Total_Passengers'].sum().nlargest(20, \n",
    "    columns=['Total_Injuries', 'Total_Passengers'])\n",
    "model_df\n",
    "\n",
    "model_df['Survival_Rate'] = 1 - (model_df['Total_Injuries']/ model_df['Total_Passengers'])\n",
    "model_df = model_df.drop(columns= ['Total_Injuries', 'Total_Passengers'])\n",
    "model_df"
   ]
  },
  {
   "cell_type": "code",
   "execution_count": 171,
   "metadata": {},
   "outputs": [
    {
     "name": "stderr",
     "output_type": "stream",
     "text": [
      "<ipython-input-171-696659c4ee36>:14: UserWarning: FixedFormatter should only be used together with FixedLocator\n",
      "  ax.set_xticklabels(model_df.index, rotation=80)\n"
     ]
    },
    {
     "data": {
      "image/png": "[encoded data removed]",
      "text/plain": [
       "<Figure size 864x504 with 2 Axes>"
      ]
     },
     "metadata": {
      "needs_background": "light"
     },
     "output_type": "display_data"
    }
   ],
   "source": [
    "fig, ax = plt.subplots(figsize=(12,7))\n",
    "\n",
    "color_map = plt.cm.viridis_r\n",
    "bin_edges = np.linspace(0,1, len(model_df) + 1)\n",
    "colors = [color_map((bin_edges[i] + bin_edges[i+1])/2) for i in range(len(model_df))]\n",
    "\n",
    "# model_df.plot(kind='bar', rot=80, figsize=(12,6), ax =ax,legend=False, color =colors)\n",
    "# ax.set_ylabel('Survival Rate');\n",
    "\n",
    "for index, (make, row) in enumerate(model_df.iterrows()):\n",
    "    color = colors[index]\n",
    "    ax.bar(make, row['Survival_Rate'], color = color)\n",
    "\n",
    "ax.set_xticklabels(model_df.index, rotation=80)\n",
    "ax.set_ylabel('Survival Rate')\n",
    "sm = plt.cm.ScalarMappable(cmap = color_map, norm=plt.Normalize(vmin=0, vmax=1))\n",
    "sm.set_array([])\n",
    "cbar = plt.colorbar(sm, ax=ax)\n",
    "cbar.set_label('Survival Rate')"
   ]
  },
  {
   "cell_type": "code",
   "execution_count": null,
   "metadata": {},
   "outputs": [],
   "source": []
  }
 ],
 "metadata": {
  "kernelspec": {
   "display_name": "Python 3",
   "language": "python",
   "name": "python3"
  },
  "language_info": {
   "codemirror_mode": {
    "name": "ipython",
    "version": 3
   },
   "file_extension": ".py",
   "mimetype": "text/x-python",
   "name": "python",
   "nbconvert_exporter": "python",
   "pygments_lexer": "ipython3",
   "version": "3.8.5"
  }
 },
 "nbformat": 4,
 "nbformat_minor": 4
}
